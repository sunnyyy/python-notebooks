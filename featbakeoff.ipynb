{
 "cells": [
  {
   "cell_type": "markdown",
   "metadata": {},
   "source": [
    "# Feature Design Bakeoff: Native Language Identification\n",
    "\n",
    "## The Task\n",
    "\n",
    "Given an essay written in English by a non-native speaker, identify their native language. This is a task published by ETS (Educational Testing Service), with the data coming from TOEFL essays.\n",
    "\n",
    "**Data:** Files for training, development, and test, automatically downloaded and parsed by the code below. The test data does not have labels. The languages in the data are \n",
    "\n",
    "    ARA = Arabic\n",
    "    CHI = Chinese\n",
    "    FRE = French\n",
    "    GER = German\n",
    "    HIN = Hindi\n",
    "    ITA = Italian\n",
    "    JPN = Japanese\n",
    "    KOR = Korean\n",
    "    SPA = Spanish\n",
    "    TEL = Telugu\n",
    "    TUR = Turkish\n",
    "\n",
    "**Learning Algorithm:** One-versus-rest logistic regression\n",
    "\n",
    "**Features:** You design 'em! A baseline with word counts is given to you.\n",
    "\n",
    "## 1. Load Data\n",
    "\n",
    "(This will take a few seconds since it has to read the data over the Internet.)\n"
   ]
  },
  {
   "cell_type": "code",
   "execution_count": 1,
   "metadata": {
    "collapsed": false
   },
   "outputs": [],
   "source": [
    "import urllib2\n",
    "\n",
    "def load_data(url):\n",
    "    \"\"\"read a data file from the web\"\"\"\n",
    "    obj = urllib2.urlopen(url)\n",
    "    return [line.strip() for line in obj.readlines()]\n",
    "\n",
    "train_text = load_data('http://cs.wellesley.edu/~sravana/ml/nli/training.essays')\n",
    "train_labels = load_data('http://cs.wellesley.edu/~sravana/ml/nli/training.labels')\n",
    "   \n",
    "dev_text = load_data('http://cs.wellesley.edu/~sravana/ml/nli/development.essays')\n",
    "dev_labels = load_data('http://cs.wellesley.edu/~sravana/ml/nli/development.labels')\n",
    "\n",
    "test_text = load_data('http://cs.wellesley.edu/~sravana/ml/nli/test.essays')"
   ]
  },
  {
   "cell_type": "markdown",
   "metadata": {},
   "source": [
    "### Preview data\n",
    "\n",
    "Here are what the essays look like..."
   ]
  },
  {
   "cell_type": "code",
   "execution_count": 2,
   "metadata": {
    "collapsed": false
   },
   "outputs": [
    {
     "name": "stdout",
     "output_type": "stream",
     "text": [
      "There are 6435 essays in the training set\n",
      "A sample essay by a speaker of CHI\n",
      "I agree with the successful people try new things and take risks rather than only doing what they already know how to do well . I know and heard many examples about this kind of things . I think a really successful person must be smart and honest . They can be successed in this area , because they know how to be successd in this area , but a man can not always stay and do now go forward . Successful people always want to be success in diffrent area , so they can prove themselves that they are really should be successed .  First , I think many peple heard that some popular movie stars or singers also doing their own business , such as have a resteruant , clothes stores , hotels and so on . Movie stars and singers they earnd too much money than others , why they should do these things , they need more money ? or they have too much money so they just do it for fun ? I think they just want to show people that they can do everything like a regular person , they are not only have good looking or beautiful voice , they can also be succesed in other area . Actually , many of them also did very good business . So i think successful people try new things and take risks can prove themselves that they are not just lucky , or maybe they need more money .  Secondly , i readed in the newspaper , a man he is really a successful business man , he is so rich , but he always try the new things . The man had many hotels , these hotels are all five stars hotels , and they are so famous all over the world . But the man open a travelling company , this is a really good idea , because first of all he can let the travelers live in his hotels , and the secondly he can earnd more money from the travelling . Now he did very good job in travelling company . After i readed this new , i really think the man is so smart , there are many travelling company and many hotels , why they can not be success but the man did both .  Last but not least , people can be successed not because they are just lucky , because they work more harder than others . A successful person can always be successful if he can catch the good chance , and use this chance to be successul .\n"
     ]
    }
   ],
   "source": [
    "print 'There are', len(train_text), 'essays in the training set'\n",
    "print 'A sample essay by a speaker of', train_labels[0]\n",
    "print train_text[0]"
   ]
  },
  {
   "cell_type": "markdown",
   "metadata": {},
   "source": [
    "## 2. Featurizing and Classification\n",
    "\n",
    "The code below transforms the language labels ('ARA', 'CHI', etc) into integer labels for the training and development data."
   ]
  },
  {
   "cell_type": "code",
   "execution_count": 3,
   "metadata": {
    "collapsed": true
   },
   "outputs": [],
   "source": [
    "from sklearn.preprocessing import LabelEncoder\n",
    "le = LabelEncoder()\n",
    "\n",
    "trainy = le.fit_transform(train_labels)  \n",
    "devy = le.transform(dev_labels)  "
   ]
  },
  {
   "cell_type": "markdown",
   "metadata": {},
   "source": [
    "A baseline featurizer with bag-of-word counts is implemented below. "
   ]
  },
  {
   "cell_type": "code",
   "execution_count": 4,
   "metadata": {
    "collapsed": false
   },
   "outputs": [],
   "source": [
    "# from sklearn.feature_extraction.text import CountVectorizer\n",
    "\n",
    "# vectorizer = CountVectorizer()  # initialize object with CountVectorizer defaults\n",
    "\n",
    "# # convert to array where each row is an essay, each dimension is a word, \n",
    "# # and each value is the count of that word in the essay\n",
    "# trainX = vectorizer.fit_transform(train_text)  \n",
    "\n",
    "# trainX = trainX.toarray()   # make dense\n",
    "\n",
    "# devX = vectorizer.transform(dev_text)  # featurize the development text\n",
    "# devX = devX.toarray()\n",
    "\n",
    "# testX = vectorizer.transform(test_text)  # featurize the testing text\n",
    "# testX = testX.toarray()"
   ]
  },
  {
   "cell_type": "code",
   "execution_count": 5,
   "metadata": {
    "collapsed": false
   },
   "outputs": [],
   "source": [
    "from sklearn.feature_extraction.text import TfidfVectorizer\n",
    "\n",
    "vectorizer = TfidfVectorizer(sublinear_tf=True)  # initialize object with TfidfVectorizer defaults\n",
    "\n",
    "# convert to array where each row is an essay, each dimension is a word, \n",
    "# and each value is the count of that word in the essay\n",
    "trainX = vectorizer.fit_transform(train_text)\n",
    "\n",
    "trainX = trainX.toarray()   # make dense\n",
    "\n",
    "devX = vectorizer.transform(dev_text)  # featurize the development text\n",
    "# devX = devX.toarray()\n",
    "\n",
    "testX = vectorizer.transform(test_text)  # featurize the testing text\n",
    "# testX = testX.toarray()"
   ]
  },
  {
   "cell_type": "markdown",
   "metadata": {},
   "source": [
    "Now train a multi-class logistic regression model and test on the dev set. This code may take a few seconds to run."
   ]
  },
  {
   "cell_type": "code",
   "execution_count": 6,
   "metadata": {
    "collapsed": false
   },
   "outputs": [
    {
     "name": "stdout",
     "output_type": "stream",
     "text": [
      "Classification accuracy 0.777479892761\n"
     ]
    }
   ],
   "source": [
    "from sklearn.linear_model import LogisticRegression\n",
    "\n",
    "model = LogisticRegression()  # one-versus rest logistic regression\n",
    "\n",
    "model.fit(trainX, trainy)\n",
    "accuracy = model.score(devX, devy)\n",
    "print 'Classification accuracy', accuracy"
   ]
  },
  {
   "cell_type": "markdown",
   "metadata": {},
   "source": [
    "Use different options for the `CountVectorizer` (which allows word and character n-grams) or replace it with the `TfidfVectorizer` and explore *its* different options. See [the documentation on text feature extraction](http://scikit-learn.org/stable/modules/classes.html#module-sklearn.feature_extraction.text).\n",
    "\n",
    "You can also experiment with some of sklearn's [feature scaling and normalization options](http://scikit-learn.org/stable/modules/classes.html#module-sklearn.preprocessing).\n",
    "\n",
    "In addition to feature engineering, you can also try alternate hyperparameters for the logistic regression model above.\n",
    "\n",
    "If you're really efficient, you can concatenate some hand-designed features (average word length, etc) to the trainX, testX, and devX arrays. This takes some time to implement, so leave it to the end.\n",
    "\n",
    "When you're satisfied with the development accuracy, predict labels for test data by running the code below."
   ]
  },
  {
   "cell_type": "code",
   "execution_count": null,
   "metadata": {
    "collapsed": false
   },
   "outputs": [
    {
     "name": "stdout",
     "output_type": "stream",
     "text": [
      "Enter your team name: lma2-sye2\n"
     ]
    }
   ],
   "source": [
    "predictions = model.predict(testX)\n",
    "predictions = le.inverse_transform(predictions)  # transform list of indices into list of languages\n",
    "\n",
    "team_name = raw_input('Enter your team name: ').strip().replace(' ', '_')\n",
    "student_names = raw_input('Enter all student names, separated by commas: ').strip()\n",
    "\n",
    "with open(team_name+'.results', 'w') as o:\n",
    "    o.write(student_names+'\\n')\n",
    "    o.write('\\n'.join(predictions))\n",
    "print 'Wrote results to file'"
   ]
  },
  {
   "cell_type": "markdown",
   "metadata": {},
   "source": [
    "Drop the `<your_team_name>.results` file that was created in the current working directory into\n",
    "[this Google Drive folder](https://drive.google.com/open?id=0B8FnZZJ_NRjiMXBkN2YtMDF2dzg)."
   ]
  },
  {
   "cell_type": "code",
   "execution_count": null,
   "metadata": {
    "collapsed": true
   },
   "outputs": [],
   "source": []
  }
 ],
 "metadata": {
  "kernelspec": {
   "display_name": "Python 2",
   "language": "python",
   "name": "python2"
  },
  "language_info": {
   "codemirror_mode": {
    "name": "ipython",
    "version": 2
   },
   "file_extension": ".py",
   "mimetype": "text/x-python",
   "name": "python",
   "nbconvert_exporter": "python",
   "pygments_lexer": "ipython2",
   "version": "2.7.10"
  }
 },
 "nbformat": 4,
 "nbformat_minor": 0
}
