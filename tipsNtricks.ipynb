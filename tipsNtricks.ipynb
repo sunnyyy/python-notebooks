{
 "cells": [
  {
   "cell_type": "markdown",
   "metadata": {},
   "source": [
    "# CS349-02: Python numerical computing \n",
    "\n",
    "This notebook goes over some useful functionalities in NumPy and SciPy. \n",
    "It also demonstrates how different ways of implementing the same procedure affect speed.\n",
    "\n",
    "Understanding of basic Python and the NumPy tutorial in `PS0` is assumed,\n",
    "but we will review highlight key points and some of the questions you had from that tutorial.\n",
    "\n",
    "## NumPy Arrays\n",
    "\n",
    "We import the `numpy` library. Python lets us choose our own namespace for the module using the `as` keyword.\n",
    "Since \"numpy\" is a bit long to keep typing out, we'll call it `np`."
   ]
  },
  {
   "cell_type": "code",
   "execution_count": 1,
   "metadata": {
    "collapsed": false
   },
   "outputs": [
    {
     "name": "stdout",
     "output_type": "stream",
     "text": [
      "a is the array\n",
      "[1 2 3]\n",
      "a is of type <type 'numpy.ndarray'>\n",
      "a has 1 dimensions\n"
     ]
    }
   ],
   "source": [
    "import numpy as np\n",
    "\n",
    "a = np.array([1, 2, 3])\n",
    "\n",
    "print 'a is the array\\n', a\n",
    "print 'a is of type', type(a)\n",
    "print 'a has', a.ndim, 'dimensions'"
   ]
  },
  {
   "cell_type": "code",
   "execution_count": 2,
   "metadata": {
    "collapsed": false
   },
   "outputs": [
    {
     "name": "stdout",
     "output_type": "stream",
     "text": [
      "b is the array\n",
      "[[0 2 0]\n",
      " [0 0 5]\n",
      " [1 0 0]\n",
      " [0 0 0]]\n",
      "b is of type <type 'numpy.ndarray'>\n",
      "b has 2 dimensions\n",
      "The element in row 1, column 1 is 0\n"
     ]
    }
   ],
   "source": [
    "b = np.zeros((4, 3), dtype=int)  #dtype could int, float, etc\n",
    "b[0, 1] = 2  # note indexing looks different from Python's lists of lists\n",
    "b[1, 2] = 5\n",
    "b[2, 0] = 1\n",
    "\n",
    "print 'b is the array\\n', b\n",
    "print 'b is of type', type(b)\n",
    "print 'b has', b.ndim, 'dimensions'\n",
    "print 'The element in row 1, column 1 is', b[1, 1]"
   ]
  },
  {
   "cell_type": "markdown",
   "metadata": {},
   "source": [
    "The PS0 tutorial calls the number of dimensions of an array its \"rank\", but I prefer to just call it *number of dimensions*.\n",
    "\n",
    "1 and 2 dimensional arrays are most commonly used. 1-d arrays tend to represent vectors (of the same number of dimensions as the elements in the vector), and which 2-d arrays tend to represent matrices.\n",
    "\n",
    "However, arrays can have any number of dimensions. \n",
    "\n",
    "Below, `c` is a three dimensional array. It is displayed as 2 2-d cross-sections. You can think of `c` as 3-dimensional box; each 2-d array shown is a cross-section of the box.\n",
    "\n",
    "3-dimensional arrays are often used to represent images, which are 2-d arrays of pixels, where each pixel has 3 (red, blue, green) values.\n",
    "\n",
    "In PS1, your images are grayscale and therefore represented by 2-d arrays only, where each pixel has an intensity value rather than color.\n",
    "\n",
    "\n",
    "**Do not mix up the number of dimensions of an array, and the dimensionality of a vector (represented as a 1-d array).**"
   ]
  },
  {
   "cell_type": "code",
   "execution_count": 3,
   "metadata": {
    "collapsed": false
   },
   "outputs": [
    {
     "name": "stdout",
     "output_type": "stream",
     "text": [
      "[[[  1.   2.   3.]\n",
      "  [  4.   5.   6.]\n",
      "  [  7.   8.   9.]]\n",
      "\n",
      " [[ 10.  11.  12.]\n",
      "  [ 13.  14.  15.]\n",
      "  [ 16.  17.  18.]]]\n",
      "The shape of c is (2, 3, 3)\n"
     ]
    }
   ],
   "source": [
    "c = np.array([[[1, 2, 3], [4, 5, 6], [7, 8, 9]], [[10, 11, 12], [13, 14, 15], [16, 17, 18]]], dtype=float)\n",
    "print c\n",
    "print 'The shape of c is', c.shape"
   ]
  },
  {
   "cell_type": "markdown",
   "metadata": {},
   "source": [
    "### Vector and Matrix Arithmetic\n",
    "\n",
    "Arrays of the same shape can be added. Multiplying with `*` does element-wise multiplication, not dot-product.\n",
    "\n",
    "From the vectors worksheet on Monday:"
   ]
  },
  {
   "cell_type": "code",
   "execution_count": 4,
   "metadata": {
    "collapsed": false
   },
   "outputs": [
    {
     "name": "stdout",
     "output_type": "stream",
     "text": [
      "VECTOR BASICS\n",
      "a = [5 4]\n",
      "b = [1 1]\n",
      "a+b = [6 5]\n",
      "a-b = [4 3]\n",
      "a*b = [5 4]\n",
      "a.b = 9\n"
     ]
    }
   ],
   "source": [
    "print 'VECTOR BASICS'\n",
    "a = np.array([5, 4])\n",
    "b = np.array([1, 1])\n",
    "print 'a =', a\n",
    "print 'b =', b\n",
    "print 'a+b =', a+b\n",
    "print 'a-b =', a-b\n",
    "print 'a*b =', a*b # element-wise; not the dot product. note that we rarely need element-wise vector multiplication\n",
    "print 'a.b =', a.dot(b)"
   ]
  },
  {
   "cell_type": "markdown",
   "metadata": {},
   "source": [
    "**Exercise**: If numpy did not provide a `dot` method, and only provided element-wise multiplication through `*`, how would you compute the dot product? Hint: use `np.sum` (or even just Python's built-in `sum`)."
   ]
  },
  {
   "cell_type": "code",
   "execution_count": 5,
   "metadata": {
    "collapsed": false
   },
   "outputs": [
    {
     "name": "stdout",
     "output_type": "stream",
     "text": [
      "a.b = 9\n"
     ]
    }
   ],
   "source": [
    "print 'a.b =', np.sum(a*b)"
   ]
  },
  {
   "cell_type": "markdown",
   "metadata": {},
   "source": [
    "Last class, we discussed different metrics to compute distances between points."
   ]
  },
  {
   "cell_type": "code",
   "execution_count": 6,
   "metadata": {
    "collapsed": false
   },
   "outputs": [
    {
     "name": "stdout",
     "output_type": "stream",
     "text": [
      "The L0 (hamming) distance between a and b is 2\n",
      "The L0 (hamming) distance between a and [5, 1] is 1\n",
      "The L1 (manhattan) distance between a and b is 7\n"
     ]
    }
   ],
   "source": [
    "import numpy.linalg  #for Lp distances and norms\n",
    "print 'The L0 (hamming) distance between a and b is', numpy.linalg.norm(a-b, 0)  \n",
    "print 'The L0 (hamming) distance between a and [5, 1] is', numpy.linalg.norm(a-np.array([5, 1]), 0)  \n",
    "print 'The L1 (manhattan) distance between a and b is', numpy.linalg.norm(a-b, 1)"
   ]
  },
  {
   "cell_type": "markdown",
   "metadata": {},
   "source": [
    "**Exercise**: \n",
    "\n",
    "1. We've already seen the definition of L1 distance in class.\n",
    "What is your guess for the definition of the L0 (Hamming) distance?\n",
    "\n",
    "2. Write the expression to compute the Euclidean distance below."
   ]
  },
  {
   "cell_type": "code",
   "execution_count": 8,
   "metadata": {
    "collapsed": false
   },
   "outputs": [
    {
     "name": "stdout",
     "output_type": "stream",
     "text": [
      "The L2 (euclidean) distance between a and b is 5.0\n"
     ]
    }
   ],
   "source": [
    "print 'The L2 (euclidean) distance between a and b is', numpy.linalg.norm(a-b, 2)"
   ]
  },
  {
   "cell_type": "markdown",
   "metadata": {},
   "source": [
    "We can compute cosine similarity following the formula in terms of the dot product and L2 norm."
   ]
  },
  {
   "cell_type": "code",
   "execution_count": 9,
   "metadata": {
    "collapsed": false
   },
   "outputs": [
    {
     "name": "stdout",
     "output_type": "stream",
     "text": [
      "COSINE SIMILARITY\n",
      "cosine similarity between a and b is 0.993883734674\n",
      "angle between a and b is 6.34019174591 degrees\n",
      "cosine similarity between a and c is 0.0\n"
     ]
    }
   ],
   "source": [
    "print 'COSINE SIMILARITY'\n",
    "cosab = a.dot(b)/(numpy.linalg.norm(a)*numpy.linalg.norm(b))\n",
    "print 'cosine similarity between a and b is', cosab\n",
    "print 'angle between a and b is', np.degrees(np.arccos(cosab)), 'degrees'\n",
    "\n",
    "c = np.array([-2, 2.5])\n",
    "print 'cosine similarity between a and c is', a.dot(c)/(numpy.linalg.norm(a)*numpy.linalg.norm(c))"
   ]
  },
  {
   "cell_type": "markdown",
   "metadata": {},
   "source": [
    "Matrices"
   ]
  },
  {
   "cell_type": "code",
   "execution_count": 10,
   "metadata": {
    "collapsed": false
   },
   "outputs": [
    {
     "name": "stdout",
     "output_type": "stream",
     "text": [
      "X is [[ 2  0  1]\n",
      " [ 0  1 -1]]\n",
      "Y is [[2]\n",
      " [1]\n",
      " [0]]\n",
      "X.Y is [[4]\n",
      " [1]]\n",
      "The transpose of X is\n",
      "[[ 2  0]\n",
      " [ 0  1]\n",
      " [ 1 -1]]\n",
      "Y.X is"
     ]
    },
    {
     "ename": "ValueError",
     "evalue": "shapes (3,1) and (2,3) not aligned: 1 (dim 1) != 2 (dim 0)",
     "output_type": "error",
     "traceback": [
      "\u001b[0;31m---------------------------------------------------------------------------\u001b[0m",
      "\u001b[0;31mValueError\u001b[0m                                Traceback (most recent call last)",
      "\u001b[0;32m<ipython-input-10-670cc1538993>\u001b[0m in \u001b[0;36m<module>\u001b[0;34m()\u001b[0m\n\u001b[1;32m     14\u001b[0m \u001b[0;34m\u001b[0m\u001b[0m\n\u001b[1;32m     15\u001b[0m \u001b[0;32mprint\u001b[0m \u001b[0;34m'Y.X is'\u001b[0m\u001b[0;34m,\u001b[0m\u001b[0;34m\u001b[0m\u001b[0m\n\u001b[0;32m---> 16\u001b[0;31m \u001b[0;32mprint\u001b[0m \u001b[0mY\u001b[0m\u001b[0;34m.\u001b[0m\u001b[0mdot\u001b[0m\u001b[0;34m(\u001b[0m\u001b[0mX\u001b[0m\u001b[0;34m)\u001b[0m\u001b[0;34m\u001b[0m\u001b[0m\n\u001b[0m",
      "\u001b[0;31mValueError\u001b[0m: shapes (3,1) and (2,3) not aligned: 1 (dim 1) != 2 (dim 0)"
     ]
    }
   ],
   "source": [
    "X = np.array([[2, 0, 1], [0, 1, -1]])\n",
    "Y = np.array([[2], [1], [0]])\n",
    "\n",
    "print 'X is', \n",
    "print X\n",
    "print 'Y is', \n",
    "print Y\n",
    "\n",
    "print 'X.Y is',\n",
    "print X.dot(Y)\n",
    "\n",
    "print 'The transpose of X is'\n",
    "print X.T\n",
    "\n",
    "print 'Y.X is',\n",
    "print Y.dot(X)"
   ]
  },
  {
   "cell_type": "code",
   "execution_count": 11,
   "metadata": {
    "collapsed": false
   },
   "outputs": [
    {
     "name": "stdout",
     "output_type": "stream",
     "text": [
      " X.XT is [[ 5 -1]\n",
      " [-1  2]]\n"
     ]
    }
   ],
   "source": [
    "print 'X.XT is', X.dot(X.T)"
   ]
  },
  {
   "cell_type": "markdown",
   "metadata": {},
   "source": [
    "**Exercise:** write the expression to compute $X.X^T$"
   ]
  },
  {
   "cell_type": "markdown",
   "metadata": {},
   "source": [
    "### Indexing and Slicing\n",
    "\n",
    "I can take continuous subarrays of any array using *slicing*."
   ]
  },
  {
   "cell_type": "code",
   "execution_count": 13,
   "metadata": {
    "collapsed": false
   },
   "outputs": [
    {
     "name": "stdout",
     "output_type": "stream",
     "text": [
      "[[6 6 6 5]\n",
      " [2 2 2 5]\n",
      " [6 0 6 6]]\n",
      "\n",
      "[[2 2]\n",
      " [0 6]]\n"
     ]
    }
   ],
   "source": [
    "sixes = np.full((3, 4), 6, dtype=int)\n",
    "sixes[1, :] = 2\n",
    "sixes[:2, 3] = 5\n",
    "sixes[2, 1] = 0\n",
    "print sixes\n",
    "print\n",
    "print sixes[1:, 1:3]  # rows 1-end and columns 1-3 of b"
   ]
  },
  {
   "cell_type": "markdown",
   "metadata": {},
   "source": [
    "What if I want a subarray that is *not* continuous? E.g., row 0 col 3 and row 2 col 1 of `b`. Enter **integer indexing**."
   ]
  },
  {
   "cell_type": "code",
   "execution_count": 14,
   "metadata": {
    "collapsed": false
   },
   "outputs": [
    {
     "name": "stdout",
     "output_type": "stream",
     "text": [
      "[5 0]\n"
     ]
    }
   ],
   "source": [
    "print sixes[[0, 2], [3, 1]]  #first list is list of row indices, second list is corresponding column indices"
   ]
  },
  {
   "cell_type": "markdown",
   "metadata": {},
   "source": [
    "**Exercise:** use integer indexing to get the last two elements of row 1 from `sixes` and the element at row 2 col 1. (i.e., the returned array should be `[2 5 0]`"
   ]
  },
  {
   "cell_type": "code",
   "execution_count": 15,
   "metadata": {
    "collapsed": false
   },
   "outputs": [
    {
     "name": "stdout",
     "output_type": "stream",
     "text": [
      "[2 5 0]\n"
     ]
    }
   ],
   "source": [
    "print sixes[[1,1,2],[2,3,1]]"
   ]
  },
  {
   "cell_type": "markdown",
   "metadata": {},
   "source": [
    "**Boolean array indexing** uses a boolean array of the same shape as the original array to select elements of the array. "
   ]
  },
  {
   "cell_type": "code",
   "execution_count": 16,
   "metadata": {
    "collapsed": false
   },
   "outputs": [
    {
     "name": "stdout",
     "output_type": "stream",
     "text": [
      "a is\n",
      "[5 4]\n",
      "Applying boolean indexing with mymask1 on a: [5]\n",
      "\n",
      "sixes is\n",
      "[[6 6 6 5]\n",
      " [2 2 2 5]\n",
      " [6 0 6 6]]\n",
      "Applying boolean indexing with mymask2 on sixes: [6 6 5 2 2 6]\n"
     ]
    }
   ],
   "source": [
    "print 'a is\\n', a\n",
    "mymask1 = np.array([True, False])\n",
    "print 'Applying boolean indexing with mymask1 on a:', a[mymask1]\n",
    "\n",
    "print '\\nsixes is\\n', sixes\n",
    "mymask2 = np.array([[True, True, False, True], [False, True, True, False], [False, False, True, False]])\n",
    "print 'Applying boolean indexing with mymask2 on sixes:', sixes[mymask2]"
   ]
  },
  {
   "cell_type": "markdown",
   "metadata": {},
   "source": [
    "Note that a relational operator produces a mask by testing that relation on each element of the array, unlike regular Python.\n",
    "\n",
    "These can be used for easy indexing."
   ]
  },
  {
   "cell_type": "code",
   "execution_count": 17,
   "metadata": {
    "collapsed": false
   },
   "outputs": [
    {
     "name": "stdout",
     "output_type": "stream",
     "text": [
      "[False  True]\n",
      "[4]\n"
     ]
    }
   ],
   "source": [
    "print a%2==0\n",
    "print a[a%2==0]"
   ]
  },
  {
   "cell_type": "markdown",
   "metadata": {},
   "source": [
    "**Exercise**: Write an expression below using boolean indexing to retrieve the elements of `sixes` that are not 6."
   ]
  },
  {
   "cell_type": "code",
   "execution_count": 21,
   "metadata": {
    "collapsed": false
   },
   "outputs": [
    {
     "name": "stdout",
     "output_type": "stream",
     "text": [
      "[[False False False  True]\n",
      " [ True  True  True  True]\n",
      " [False  True False False]]\n"
     ]
    }
   ],
   "source": [
    "print sixes != 6"
   ]
  },
  {
   "cell_type": "markdown",
   "metadata": {},
   "source": [
    "### Reshaping\n",
    "\n",
    "Arrays can be reshaped as long as the total number of elements remains the same.\n",
    "\n",
    "For example, you can convert a `(2, 3)` array into a `(6, 1)`, `(3, 2)`, or `(1, 6)`.\n",
    "\n",
    "A student was wondering what the difference is between reshaping and transposing. What does reshaping do?"
   ]
  },
  {
   "cell_type": "code",
   "execution_count": 22,
   "metadata": {
    "collapsed": false
   },
   "outputs": [
    {
     "name": "stdout",
     "output_type": "stream",
     "text": [
      "q:\n",
      "[[1 2 3]\n",
      " [4 5 6]]\n",
      "q reshaped to (1, 6):\n",
      "[[1 2 3 4 5 6]]\n",
      "q reshaped to (3, 2):\n",
      "[[1 2]\n",
      " [3 4]\n",
      " [5 6]]\n",
      "q transposed:\n",
      "[[1 4]\n",
      " [2 5]\n",
      " [3 6]]\n"
     ]
    }
   ],
   "source": [
    "q = np.array([[1, 2, 3], [4, 5, 6]])\n",
    "print 'q:\\n', q\n",
    "print 'q reshaped to (1, 6):\\n', q.reshape((1, 6))\n",
    "print 'q reshaped to (3, 2):\\n', q.reshape((3, 2))\n",
    "print 'q transposed:\\n', q.T"
   ]
  },
  {
   "cell_type": "markdown",
   "metadata": {},
   "source": [
    "### Broadcasting\n",
    "\n",
    "Most of the questions you had about PS0 were about broadcasting. \n",
    "\n",
    "This is just a fancy term for how numpy will implicitly \"tile\" the smaller array to match the dimensions of the larger array before applying an arithmetic operation. Only some \"univeral\" NumPy operations support broadcasting.\n",
    "\n",
    "Here's a [reference](http://eli.thegreenplace.net/2015/broadcasting-arrays-in-numpy/) about how broadcasting works. It's not too important for this class to understand all the details."
   ]
  },
  {
   "cell_type": "code",
   "execution_count": 23,
   "metadata": {
    "collapsed": false
   },
   "outputs": [
    {
     "name": "stdout",
     "output_type": "stream",
     "text": [
      "sixes:\n",
      "[[6 6 6 5]\n",
      " [2 2 2 5]\n",
      " [6 0 6 6]]\n",
      "shape of b: (3, 4)\n",
      "x:\n",
      "[  10  100 1000    1]\n",
      "shape of x: (4,)\n"
     ]
    }
   ],
   "source": [
    "print 'sixes:\\n', sixes\n",
    "print 'shape of b:', sixes.shape\n",
    "x = np.array([10, 100, 1000, 1])\n",
    "print 'x:\\n', x\n",
    "print 'shape of x:', x.shape"
   ]
  },
  {
   "cell_type": "code",
   "execution_count": 24,
   "metadata": {
    "collapsed": false
   },
   "outputs": [
    {
     "name": "stdout",
     "output_type": "stream",
     "text": [
      "[[  16  106 1006    6]\n",
      " [  12  102 1002    6]\n",
      " [  16  100 1006    7]]\n"
     ]
    }
   ],
   "source": [
    "print x+sixes # tiles x across the rows of b and adds"
   ]
  },
  {
   "cell_type": "markdown",
   "metadata": {},
   "source": [
    "Scalar vector multiplication in NumPy is a special case of broadcasting."
   ]
  },
  {
   "cell_type": "code",
   "execution_count": 25,
   "metadata": {
    "collapsed": false
   },
   "outputs": [
    {
     "name": "stdout",
     "output_type": "stream",
     "text": [
      "[  30  300 3000    3]\n"
     ]
    }
   ],
   "source": [
    "print 3*x   # 3 has shape (1,) while x has shape (4,)"
   ]
  },
  {
   "cell_type": "code",
   "execution_count": 26,
   "metadata": {
    "collapsed": false
   },
   "outputs": [
    {
     "name": "stdout",
     "output_type": "stream",
     "text": [
      "y:\n",
      "[[ 3]\n",
      " [ 2]\n",
      " [-1]]\n",
      "shape of y: (3, 1)\n",
      "[[18 18 18 15]\n",
      " [ 4  4  4 10]\n",
      " [-6  0 -6 -6]]\n"
     ]
    }
   ],
   "source": [
    "y = np.array([3, 2, -1]).reshape((3, 1))   # 1-d array's transpose doesn't give expected shape. must reshape instead\n",
    "print 'y:\\n', y\n",
    "print 'shape of y:', y.shape\n",
    "print y*sixes"
   ]
  },
  {
   "cell_type": "markdown",
   "metadata": {},
   "source": [
    "### Images as Arrays\n",
    "\n",
    "Grayscale images can be represented as 2-d arrays of pixel intensities. The file `7.txt` in this directory contains an array representation of 7.\n",
    "\n",
    "To display an array as an image, we will use `matplotlib`. Here is the `display_image` function provided to you in PS1."
   ]
  },
  {
   "cell_type": "code",
   "execution_count": 27,
   "metadata": {
    "collapsed": false
   },
   "outputs": [
    {
     "name": "stdout",
     "output_type": "stream",
     "text": [
      "(28, 28)\n"
     ]
    },
    {
     "data": {
      "image/png": "[encoded data removed]",
      "text/plain": [
       "<matplotlib.figure.Figure at 0x1113e9610>"
      ]
     },
     "metadata": {},
     "output_type": "display_data"
    }
   ],
   "source": [
    "import matplotlib.pyplot as plt\n",
    "%matplotlib inline  \n",
    "# above line only needed in notebooks\n",
    "def display_image(arr, saveToFilename=None):\n",
    "    \"\"\"Given an array, display it as a 2d grayscale image.\n",
    "    If saveToFilename is provided (str), save the image to a file of that name.\"\"\"\n",
    "    plt.figure(figsize=(1, 1))\n",
    "    plt.axis('off')\n",
    "    plt.imshow(arr, interpolation='none', cmap = plt.get_cmap('gray'), vmin = 0, vmax = 255)\n",
    "    if saveToFilename:\n",
    "        plt.savefig(saveToFilename)\n",
    "    else:\n",
    "        plt.show()\n",
    "        \n",
    "# use np.loadtxt to read the array from the file, and display_image to show the image represented by the array\n",
    "img7 = np.loadtxt('7.txt', dtype=int)\n",
    "print img7.shape\n",
    "display_image(img7)"
   ]
  },
  {
   "cell_type": "markdown",
   "metadata": {},
   "source": [
    "**Exercise**: write an expression to count the proportion of fully black pixels in this image.\n",
    "Black pixels have an intensity of 0. Hint: boolean indexing."
   ]
  },
  {
   "cell_type": "code",
   "execution_count": 29,
   "metadata": {
    "collapsed": false
   },
   "outputs": [
    {
     "name": "stdout",
     "output_type": "stream",
     "text": [
      "640\n"
     ]
    }
   ],
   "source": [
    "print np.sum(img7==0)"
   ]
  },
  {
   "cell_type": "markdown",
   "metadata": {},
   "source": [
    "**Exercise**: display the image corresponding to the transpose of the original image array."
   ]
  },
  {
   "cell_type": "code",
   "execution_count": 30,
   "metadata": {
    "collapsed": false
   },
   "outputs": [
    {
     "data": {
      "image/png": "[encoded data removed]",
      "text/plain": [
       "<matplotlib.figure.Figure at 0x1100f7090>"
      ]
     },
     "metadata": {},
     "output_type": "display_data"
    }
   ],
   "source": [
    "display_image(img7.T)"
   ]
  },
  {
   "cell_type": "markdown",
   "metadata": {},
   "source": [
    "**Exercise**: display the image corresponding to the array where the pixel intensities are \"flipped\";\n",
    "i.e. 7 should show up as a black figure on a white background.\n",
    "Hint: 255 is the largest white value."
   ]
  },
  {
   "cell_type": "code",
   "execution_count": 41,
   "metadata": {
    "collapsed": false
   },
   "outputs": [
    {
     "data": {
      "image/png": "[encoded data removed]",
      "text/plain": [
       "<matplotlib.figure.Figure at 0x1115e85d0>"
      ]
     },
     "metadata": {},
     "output_type": "display_data"
    }
   ],
   "source": [
    "display_image(np.absolute(img7-255))"
   ]
  },
  {
   "cell_type": "markdown",
   "metadata": {},
   "source": [
    "**Binarizing**\n",
    "\n",
    "Below, we create a copy of `img7` where any pixel above an intensity threshold of 50 is pure white, while the rest are black. \n",
    "\n",
    "We use boolean indexing which produces a boolean mask of the same shape as the original, convert it to an array of integers (where False=0 and True=1), and scale all values by 255 (so that 1 becomes 255).\n",
    "\n",
    "This produces a pure b&w image, where every pixel is either 0 or 255, as opposed to a grayscale image. Such binarzing (of any data, not only images) is common in machine learning."
   ]
  },
  {
   "cell_type": "code",
   "execution_count": 42,
   "metadata": {
    "collapsed": false
   },
   "outputs": [
    {
     "data": {
      "image/png": "[encoded data removed]",
      "text/plain": [
       "<matplotlib.figure.Figure at 0x11197f210>"
      ]
     },
     "metadata": {},
     "output_type": "display_data"
    }
   ],
   "source": [
    "bwimg7 = (img7>30).astype(int)*255\n",
    "display_image(bwimg7)"
   ]
  },
  {
   "cell_type": "markdown",
   "metadata": {},
   "source": [
    "### Speed\n",
    "\n",
    "Besides the nice indexing, slicing, and arithmetic capabilities of NumPy, we prefer it over pure Python for speed.\n",
    "\n",
    "**Task:** given two matrices `A` and `B` with rows representing vectors, compute the dot products between all points in `A` and all points in `B`. Store in a new matrix `P` where `P[i, j]` is the distances between `A[i]` and `B[j]`."
   ]
  },
  {
   "cell_type": "code",
   "execution_count": 43,
   "metadata": {
    "collapsed": false
   },
   "outputs": [
    {
     "name": "stdout",
     "output_type": "stream",
     "text": [
      "(300, 5000) (150, 5000)\n",
      "[[ 0.38565834  0.73518909  0.12924323  0.89530369  0.88057753]\n",
      " [ 0.84452658  0.34467043  0.46831573  0.66055633  0.85531967]\n",
      " [ 0.78862409  0.00592957  0.14457982  0.49665328  0.68358762]\n",
      " [ 0.88516131  0.93977588  0.38376322  0.25976687  0.16285405]\n",
      " [ 0.19222773  0.20022368  0.2093084   0.15560847  0.3182888 ]]\n"
     ]
    }
   ],
   "source": [
    "import time\n",
    "A = np.random.rand(300, 5000)  # 300 vectors of 5000 dimensions each\n",
    "B = np.random.rand(150, 5000)  # 150 vectors of 5000 dimensions each\n",
    "print A.shape, B.shape\n",
    "print A[:5, :5]"
   ]
  },
  {
   "cell_type": "markdown",
   "metadata": {},
   "source": [
    "#### Implementation 1: Pure Python"
   ]
  },
  {
   "cell_type": "code",
   "execution_count": 44,
   "metadata": {
    "collapsed": false
   },
   "outputs": [
    {
     "name": "stdout",
     "output_type": "stream",
     "text": [
      "98.0709660053 seconds\n"
     ]
    }
   ],
   "source": [
    "def pairwise_dot_python(A, B):\n",
    "    start = time.time()\n",
    "    P = []\n",
    "    for i in range(A.shape[0]):  # rows of A\n",
    "        P.append([])\n",
    "        for j in range(B.shape[0]): # rows of B\n",
    "            thisdotprod = 0.\n",
    "            for d in range(A.shape[1]):  # columns (vector dims) \n",
    "                thisdotprod += A[i, d]*B[j, d]   # this is the arithmetic definition of the dot product\n",
    "            P[-1].append(thisdotprod)\n",
    "    P = np.array(P)\n",
    "    print time.time()-start, 'seconds'\n",
    "    return P\n",
    "\n",
    "P_python = pairwise_dot_python(A, B)"
   ]
  },
  {
   "cell_type": "markdown",
   "metadata": {},
   "source": [
    "#### Implementation 2: Mix of Python loops and NumPy\n",
    "\n",
    "The code below uses NumPy to compute dot products, but still uses a for-loop to go through all pairs of vectors."
   ]
  },
  {
   "cell_type": "code",
   "execution_count": 45,
   "metadata": {
    "collapsed": false
   },
   "outputs": [
    {
     "name": "stdout",
     "output_type": "stream",
     "text": [
      "0.281105041504 seconds\n"
     ]
    }
   ],
   "source": [
    "def pairwise_dot_hybrid(A, B):\n",
    "    start = time.time()\n",
    "    P = []\n",
    "    for i in range(A.shape[0]):  # rows of A\n",
    "        P.append([])\n",
    "        for j in range(B.shape[0]): # rows of B\n",
    "            P[-1].append(A[i, :].dot(B[j, :]))\n",
    "    P = np.array(P)\n",
    "    print time.time()-start, 'seconds'\n",
    "    return P\n",
    "\n",
    "P_hybrid = pairwise_dot_hybrid(A, B)"
   ]
  },
  {
   "cell_type": "markdown",
   "metadata": {},
   "source": [
    "#### Implementation 3: Pure NumPy\n",
    "\n",
    "Finally, the code below uses no for-loops or lists."
   ]
  },
  {
   "cell_type": "code",
   "execution_count": 46,
   "metadata": {
    "collapsed": false
   },
   "outputs": [
    {
     "name": "stdout",
     "output_type": "stream",
     "text": [
      "0.014582157135 seconds\n"
     ]
    }
   ],
   "source": [
    "def pairwise_dot_numpy(A, B):\n",
    "    start = time.time()\n",
    "    P = A.dot(B.T)\n",
    "    print time.time()-start, 'seconds'\n",
    "    return P\n",
    "\n",
    "P_numpy = pairwise_dot_numpy(A, B)"
   ]
  },
  {
   "cell_type": "markdown",
   "metadata": {},
   "source": [
    "Correctness check: the code below will print out any values of `P_numpy` that differ from the others. (Do you understand the syntax of the two statements?)\n",
    "\n",
    "Why do you think we needed to round the floating point values?"
   ]
  },
  {
   "cell_type": "code",
   "execution_count": 47,
   "metadata": {
    "collapsed": false
   },
   "outputs": [
    {
     "name": "stdout",
     "output_type": "stream",
     "text": [
      "[]\n",
      "[]\n"
     ]
    }
   ],
   "source": [
    "print P_numpy[np.round(P_numpy, 4) != np.round(P_hybrid, 4)]\n",
    "print P_numpy[np.round(P_numpy, 4) != np.round(P_python, 4)]"
   ]
  },
  {
   "cell_type": "markdown",
   "metadata": {},
   "source": [
    "### SciPy's distance computations\n",
    "\n",
    "Unfortunately, dot products are only useful for fast pairwise cosine similarities. How do we calculate pairwise Euclidean distances for all pairs of points? \n",
    "\n",
    "Use SciPy's distance module which provides the `pdist` (pairwise distances between all row-vectors in a single matrix) and `cdist` (pairwise distances between row-vectors in two matrices).\n",
    "\n",
    "Make sure you understand the pure Python implementation first so you know what is being calculated. This is closer to \"pseudocode\" and therefore more transparent about the underlying algorithm that the `scipy` abstraction."
   ]
  },
  {
   "cell_type": "code",
   "execution_count": 48,
   "metadata": {
    "collapsed": false
   },
   "outputs": [
    {
     "name": "stdout",
     "output_type": "stream",
     "text": [
      "138.847877026 seconds\n"
     ]
    }
   ],
   "source": [
    "def pairwise_euclid_python(A, B):\n",
    "    start = time.time()\n",
    "    P = []\n",
    "    for i in range(A.shape[0]):  # rows of A\n",
    "        P.append([])\n",
    "        for j in range(B.shape[0]): # rows of B\n",
    "            thisdist = 0.\n",
    "            for d in range(A.shape[1]):  # columns (vector dims) \n",
    "                thisdist += (A[i, d]-B[j, d])**2   # this is the arithmetic definition of euclidean distance\n",
    "            P[-1].append(np.sqrt(thisdist))\n",
    "    P = np.array(P)\n",
    "    print time.time()-start, 'seconds'\n",
    "    return P\n",
    "\n",
    "P_python = pairwise_euclid_python(A, B)"
   ]
  },
  {
   "cell_type": "code",
   "execution_count": 49,
   "metadata": {
    "collapsed": false
   },
   "outputs": [
    {
     "name": "stdout",
     "output_type": "stream",
     "text": [
      "0.230077028275 seconds\n"
     ]
    }
   ],
   "source": [
    "from scipy.spatial.distance import cdist\n",
    "def pairwise_euclid_scipy(A, B):\n",
    "    start = time.time()\n",
    "    P = cdist(A, B)\n",
    "    print time.time()-start, 'seconds'\n",
    "    return P\n",
    "\n",
    "P_scipy = pairwise_euclid_scipy(A, B)"
   ]
  },
  {
   "cell_type": "markdown",
   "metadata": {},
   "source": [
    "**Exercise:** Define `pairwise_euclid_hybrid` below, using for-loops instead of `cdist` to get each pair of vectors just like `pairwise_euclid_python` above, but using `numpy.linalg.norm` as we did earlier to compute the Euclidean distance between two vectors instead of explicitly computing it with a loop over the dimensions."
   ]
  },
  {
   "cell_type": "code",
   "execution_count": 51,
   "metadata": {
    "collapsed": true
   },
   "outputs": [],
   "source": [
    "import numpy.linalg\n",
    "def pairwise_euclid_hybrid(A, B):\n",
    "    start = time.time()\n",
    "    # fill in\n",
    "    P = numpy.linalg.norm(A-B, 2)\n",
    "    print time.time()-start, 'seconds'\n",
    "    return P"
   ]
  },
  {
   "cell_type": "code",
   "execution_count": null,
   "metadata": {
    "collapsed": true
   },
   "outputs": [],
   "source": []
  }
 ],
 "metadata": {
  "kernelspec": {
   "display_name": "Python 2",
   "language": "python",
   "name": "python2"
  },
  "language_info": {
   "codemirror_mode": {
    "name": "ipython",
    "version": 2
   },
   "file_extension": ".py",
   "mimetype": "text/x-python",
   "name": "python",
   "nbconvert_exporter": "python",
   "pygments_lexer": "ipython2",
   "version": "2.7.10"
  }
 },
 "nbformat": 4,
 "nbformat_minor": 0
}
