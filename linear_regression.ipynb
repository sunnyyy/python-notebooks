{
 "cells": [
  {
   "cell_type": "markdown",
   "metadata": {},
   "source": [
    "# Linear Regression in One Dimension"
   ]
  },
  {
   "cell_type": "code",
   "execution_count": null,
   "metadata": {
    "collapsed": false
   },
   "outputs": [],
   "source": [
    "import numpy as np\n",
    "import matplotlib.pyplot as plt\n",
    "%matplotlib inline\n",
    "\n",
    "x = np.array([1100, 1293, 3615, 2000, 2330, 1212, 1142, 1800, 1150, 900, 760])  # data\n",
    "y = np.array([3200, 3924, 7500, 3600, 6400, 2725, 4299, 4600, 3500, 2250, 2100])  # labels\n",
    "\n",
    "def plot_regression_data(x, y, theta=None):\n",
    "    \"\"\"plot 1-d data where y is real.\n",
    "    If specified, plot best-fit line.\"\"\"\n",
    "    plt.xlim(0, 4000)\n",
    "    plt.ylim(0, 8000)\n",
    "    plt.plot(x, y, 'ro')\n",
    "    if theta:\n",
    "        predicted = theta[0]+theta[1]*x\n",
    "        plt.plot(x, predicted, 'g-')\n",
    "        plt.show()\n",
    "    \n",
    "plot_regression_data(x, y)"
   ]
  },
  {
   "cell_type": "markdown",
   "metadata": {},
   "source": [
    "## Gradient Descent for Linear Regression \n",
    "\n",
    "Find the best-fit line by gradient descent, and plot each update."
   ]
  },
  {
   "cell_type": "code",
   "execution_count": null,
   "metadata": {
    "collapsed": false
   },
   "outputs": [],
   "source": [
    "theta = [0, 0]\n",
    "maxiter = 20\n",
    "eta = 0.00000005\n",
    "m = x.size  # number of points\n",
    "for epoch in range(maxiter):\n",
    "    print 'Epoch', epoch\n",
    "    print theta\n",
    "    print 'Loss:', (np.sum(theta[0]+theta[1]*x-y)**2)/(2*m)\n",
    "    \n",
    "    plot_regression_data(x, y, theta)\n",
    "    \n",
    "    gradient_0 = 0.\n",
    "    gradient_1 = 0.\n",
    "    # compute batch gradient\n",
    "    for i in range(m):\n",
    "        gradient_0 += (theta[0]+theta[1]*x[i]-y[i])\n",
    "        gradient_1 += (theta[0]+theta[1]*x[i]-y[i])*x[i]\n",
    "    \n",
    "    theta[0] = theta[0] - eta*gradient_0/m\n",
    "    theta[1] = theta[1] - eta*gradient_1/m\n",
    "    \n",
    "    "
   ]
  },
  {
   "cell_type": "code",
   "execution_count": null,
   "metadata": {
    "collapsed": true
   },
   "outputs": [],
   "source": []
  }
 ],
 "metadata": {
  "kernelspec": {
   "display_name": "Python 2",
   "language": "python",
   "name": "python2"
  },
  "language_info": {
   "codemirror_mode": {
    "name": "ipython",
    "version": 2
   },
   "file_extension": ".py",
   "mimetype": "text/x-python",
   "name": "python",
   "nbconvert_exporter": "python",
   "pygments_lexer": "ipython2",
   "version": "2.7.10"
  }
 },
 "nbformat": 4,
 "nbformat_minor": 0
}
